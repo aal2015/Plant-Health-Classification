{
 "cells": [
  {
   "cell_type": "markdown",
   "metadata": {},
   "source": [
    "https://medium.com/dair-ai/implementing-a-logistic-regression-model-from-scratch-with-pytorch-24ea062cd856"
   ]
  },
  {
   "cell_type": "code",
   "execution_count": 245,
   "metadata": {},
   "outputs": [],
   "source": [
    "import torch\n",
    "import torch.nn as nn\n",
    "import torchvision.transforms as transforms\n",
    "import torchvision.datasets as datasets\n",
    "import matplotlib.pyplot as plt\n",
    "from torch.utils.data import DataLoader\n",
    "from torchvision.utils import make_grid\n",
    "import numpy as np\n",
    "import pandas as pd\n",
    "import seaborn as sns"
   ]
  },
  {
   "cell_type": "code",
   "execution_count": 246,
   "metadata": {},
   "outputs": [
    {
     "name": "stdout",
     "output_type": "stream",
     "text": [
      "cuda:0\n"
     ]
    }
   ],
   "source": [
    "device = torch.device('cuda:0' if torch.cuda.is_available() else 'cpu')\n",
    "print(device)\n",
    "\n",
    "SEED = 999\n",
    "torch.manual_seed(SEED)\n",
    "torch.backends.cudnn.deterministic = True"
   ]
  },
  {
   "cell_type": "markdown",
   "metadata": {},
   "source": [
    "# 1) ETL"
   ]
  },
  {
   "cell_type": "code",
   "execution_count": 247,
   "metadata": {},
   "outputs": [],
   "source": [
    "imageSize = 100\n",
    "transform = transforms.Compose([\n",
    "    transforms.ToTensor(),\n",
    "    transforms.Resize((imageSize, imageSize)),\n",
    "     transforms.Normalize((0.5, 0.5, 0.5), (0.5, 0.5, 0.5))\n",
    "    ])"
   ]
  },
  {
   "cell_type": "code",
   "execution_count": 248,
   "metadata": {},
   "outputs": [
    {
     "data": {
      "text/plain": [
       "Dataset ImageFolder\n",
       "    Number of datapoints: 61486\n",
       "    Root location: ./Plant_leave_diseases_dataset_with_augmentation/\n",
       "    StandardTransform\n",
       "Transform: Compose(\n",
       "               ToTensor()\n",
       "               Resize(size=(100, 100), interpolation=bilinear, max_size=None, antialias=None)\n",
       "               Normalize(mean=(0.5, 0.5, 0.5), std=(0.5, 0.5, 0.5))\n",
       "           )"
      ]
     },
     "execution_count": 248,
     "metadata": {},
     "output_type": "execute_result"
    }
   ],
   "source": [
    "DIR = './Plant_leave_diseases_dataset_with_augmentation/'\n",
    "train_dataset = datasets.ImageFolder(DIR,transform=transform)\n",
    "train_dataset"
   ]
  },
  {
   "cell_type": "code",
   "execution_count": 249,
   "metadata": {},
   "outputs": [],
   "source": [
    "# DIR_test = './Plant_leave_diseases_dataset_with_augmentation/'\n",
    "# test_dataset = datasets.ImageFolder(DIR_test,transform=transform)"
   ]
  },
  {
   "cell_type": "code",
   "execution_count": 250,
   "metadata": {},
   "outputs": [
    {
     "data": {
      "text/plain": [
       "61486"
      ]
     },
     "execution_count": 250,
     "metadata": {},
     "output_type": "execute_result"
    }
   ],
   "source": [
    "len(train_dataset)"
   ]
  },
  {
   "cell_type": "code",
   "execution_count": 251,
   "metadata": {},
   "outputs": [],
   "source": [
    "# len(test_dataset)"
   ]
  },
  {
   "cell_type": "code",
   "execution_count": 252,
   "metadata": {},
   "outputs": [
    {
     "data": {
      "text/plain": [
       "(tensor([[[ 0.2562,  0.2584,  0.2566,  ...,  0.1303,  0.1265,  0.0933],\n",
       "          [ 0.2828,  0.2497,  0.2790,  ...,  0.1293,  0.1373,  0.1514],\n",
       "          [ 0.2645,  0.2627,  0.2642,  ...,  0.1287,  0.1224,  0.1214],\n",
       "          ...,\n",
       "          [ 0.1584,  0.1555,  0.1607,  ..., -0.2541, -0.2400, -0.2494],\n",
       "          [ 0.1556,  0.1337,  0.1695,  ..., -0.2471, -0.2505, -0.2679],\n",
       "          [ 0.1491,  0.1451,  0.1379,  ..., -0.2471, -0.2601, -0.2802]],\n",
       " \n",
       "         [[ 0.1621,  0.1642,  0.1625,  ...,  0.0048,  0.0010, -0.0322],\n",
       "          [ 0.1887,  0.1556,  0.1849,  ...,  0.0038,  0.0118,  0.0259],\n",
       "          [ 0.1704,  0.1686,  0.1701,  ...,  0.0032, -0.0031, -0.0041],\n",
       "          ...,\n",
       "          [ 0.1035,  0.1006,  0.1058,  ..., -0.3325, -0.3184, -0.3278],\n",
       "          [ 0.1007,  0.0788,  0.1146,  ..., -0.3255, -0.3289, -0.3464],\n",
       "          [ 0.0942,  0.0902,  0.0830,  ..., -0.3255, -0.3385, -0.3586]],\n",
       " \n",
       "         [[ 0.1935,  0.1956,  0.1939,  ...,  0.0126,  0.0089, -0.0244],\n",
       "          [ 0.2201,  0.1870,  0.2163,  ...,  0.0116,  0.0196,  0.0338],\n",
       "          [ 0.2017,  0.2000,  0.2015,  ...,  0.0111,  0.0047,  0.0037],\n",
       "          ...,\n",
       "          [ 0.1584,  0.1555,  0.1607,  ..., -0.3404, -0.3263, -0.3357],\n",
       "          [ 0.1556,  0.1337,  0.1695,  ..., -0.3333, -0.3367, -0.3542],\n",
       "          [ 0.1491,  0.1451,  0.1379,  ..., -0.3333, -0.3464, -0.3664]]]),\n",
       " 0)"
      ]
     },
     "execution_count": 252,
     "metadata": {},
     "output_type": "execute_result"
    }
   ],
   "source": [
    "train_dataset[0]"
   ]
  },
  {
   "cell_type": "code",
   "execution_count": 253,
   "metadata": {},
   "outputs": [
    {
     "data": {
      "text/plain": [
       "tuple"
      ]
     },
     "execution_count": 253,
     "metadata": {},
     "output_type": "execute_result"
    }
   ],
   "source": [
    "type(train_dataset[0])"
   ]
  },
  {
   "cell_type": "markdown",
   "metadata": {},
   "source": [
    "# 2) EDA"
   ]
  },
  {
   "cell_type": "code",
   "execution_count": 254,
   "metadata": {},
   "outputs": [],
   "source": [
    "classNames = list(train_dataset.class_to_idx)"
   ]
  },
  {
   "cell_type": "code",
   "execution_count": 255,
   "metadata": {},
   "outputs": [],
   "source": [
    "def displayImage(img):\n",
    "    img = img / 2 + 0.5\n",
    "    plt.imshow(transforms.ToPILImage()(img))"
   ]
  },
  {
   "cell_type": "code",
   "execution_count": 256,
   "metadata": {},
   "outputs": [
    {
     "name": "stdout",
     "output_type": "stream",
     "text": [
      "torch.Size([3, 100, 100])\n"
     ]
    },
    {
     "data": {
      "image/png": "[encoded data removed]",
      "text/plain": [
       "<Figure size 640x480 with 1 Axes>"
      ]
     },
     "metadata": {},
     "output_type": "display_data"
    }
   ],
   "source": [
    "for temp in train_dataset:\n",
    "    print(temp[0].shape)\n",
    "    displayImage(temp[0])\n",
    "    break"
   ]
  },
  {
   "cell_type": "code",
   "execution_count": 257,
   "metadata": {},
   "outputs": [
    {
     "data": {
      "text/plain": [
       "['Apple___Apple_scab',\n",
       " 'Apple___Black_rot',\n",
       " 'Apple___Cedar_apple_rust',\n",
       " 'Apple___healthy',\n",
       " 'Background_without_leaves',\n",
       " 'Blueberry___healthy',\n",
       " 'Cherry___Powdery_mildew',\n",
       " 'Cherry___healthy',\n",
       " 'Corn___Cercospora_leaf_spot Gray_leaf_spot',\n",
       " 'Corn___Common_rust',\n",
       " 'Corn___Northern_Leaf_Blight',\n",
       " 'Corn___healthy',\n",
       " 'Grape___Black_rot',\n",
       " 'Grape___Esca_(Black_Measles)',\n",
       " 'Grape___Leaf_blight_(Isariopsis_Leaf_Spot)',\n",
       " 'Grape___healthy',\n",
       " 'Orange___Haunglongbing_(Citrus_greening)',\n",
       " 'Peach___Bacterial_spot',\n",
       " 'Peach___healthy',\n",
       " 'Pepper,_bell___Bacterial_spot',\n",
       " 'Pepper,_bell___healthy',\n",
       " 'Potato___Early_blight',\n",
       " 'Potato___Late_blight',\n",
       " 'Potato___healthy',\n",
       " 'Raspberry___healthy',\n",
       " 'Soybean___healthy',\n",
       " 'Squash___Powdery_mildew',\n",
       " 'Strawberry___Leaf_scorch',\n",
       " 'Strawberry___healthy',\n",
       " 'Tomato___Bacterial_spot',\n",
       " 'Tomato___Early_blight',\n",
       " 'Tomato___Late_blight',\n",
       " 'Tomato___Leaf_Mold',\n",
       " 'Tomato___Septoria_leaf_spot',\n",
       " 'Tomato___Spider_mites Two-spotted_spider_mite',\n",
       " 'Tomato___Target_Spot',\n",
       " 'Tomato___Tomato_Yellow_Leaf_Curl_Virus',\n",
       " 'Tomato___Tomato_mosaic_virus',\n",
       " 'Tomato___healthy']"
      ]
     },
     "execution_count": 257,
     "metadata": {},
     "output_type": "execute_result"
    }
   ],
   "source": [
    "classNames = list(train_dataset.class_to_idx)\n",
    "classNames"
   ]
  },
  {
   "cell_type": "code",
   "execution_count": 258,
   "metadata": {},
   "outputs": [],
   "source": [
    "# counting no. of each label\n",
    "labels, noOfImagesPerClass = torch.unique(torch.tensor(train_dataset.targets), return_counts=True)"
   ]
  },
  {
   "cell_type": "code",
   "execution_count": 259,
   "metadata": {},
   "outputs": [],
   "source": [
    "classCount =  pd.DataFrame({'class': labels, 'count': noOfImagesPerClass})"
   ]
  },
  {
   "cell_type": "code",
   "execution_count": 260,
   "metadata": {},
   "outputs": [
    {
     "data": {
      "text/html": [
       "<div>\n",
       "<style scoped>\n",
       "    .dataframe tbody tr th:only-of-type {\n",
       "        vertical-align: middle;\n",
       "    }\n",
       "\n",
       "    .dataframe tbody tr th {\n",
       "        vertical-align: top;\n",
       "    }\n",
       "\n",
       "    .dataframe thead th {\n",
       "        text-align: right;\n",
       "    }\n",
       "</style>\n",
       "<table border=\"1\" class=\"dataframe\">\n",
       "  <thead>\n",
       "    <tr style=\"text-align: right;\">\n",
       "      <th></th>\n",
       "      <th>class</th>\n",
       "      <th>count</th>\n",
       "    </tr>\n",
       "  </thead>\n",
       "  <tbody>\n",
       "    <tr>\n",
       "      <th>0</th>\n",
       "      <td>0</td>\n",
       "      <td>1000</td>\n",
       "    </tr>\n",
       "    <tr>\n",
       "      <th>1</th>\n",
       "      <td>1</td>\n",
       "      <td>1000</td>\n",
       "    </tr>\n",
       "    <tr>\n",
       "      <th>2</th>\n",
       "      <td>2</td>\n",
       "      <td>1000</td>\n",
       "    </tr>\n",
       "    <tr>\n",
       "      <th>3</th>\n",
       "      <td>3</td>\n",
       "      <td>1645</td>\n",
       "    </tr>\n",
       "    <tr>\n",
       "      <th>4</th>\n",
       "      <td>4</td>\n",
       "      <td>1143</td>\n",
       "    </tr>\n",
       "    <tr>\n",
       "      <th>5</th>\n",
       "      <td>5</td>\n",
       "      <td>1502</td>\n",
       "    </tr>\n",
       "    <tr>\n",
       "      <th>6</th>\n",
       "      <td>6</td>\n",
       "      <td>1052</td>\n",
       "    </tr>\n",
       "    <tr>\n",
       "      <th>7</th>\n",
       "      <td>7</td>\n",
       "      <td>1000</td>\n",
       "    </tr>\n",
       "    <tr>\n",
       "      <th>8</th>\n",
       "      <td>8</td>\n",
       "      <td>1000</td>\n",
       "    </tr>\n",
       "    <tr>\n",
       "      <th>9</th>\n",
       "      <td>9</td>\n",
       "      <td>1192</td>\n",
       "    </tr>\n",
       "    <tr>\n",
       "      <th>10</th>\n",
       "      <td>10</td>\n",
       "      <td>1000</td>\n",
       "    </tr>\n",
       "    <tr>\n",
       "      <th>11</th>\n",
       "      <td>11</td>\n",
       "      <td>1162</td>\n",
       "    </tr>\n",
       "    <tr>\n",
       "      <th>12</th>\n",
       "      <td>12</td>\n",
       "      <td>1180</td>\n",
       "    </tr>\n",
       "    <tr>\n",
       "      <th>13</th>\n",
       "      <td>13</td>\n",
       "      <td>1383</td>\n",
       "    </tr>\n",
       "    <tr>\n",
       "      <th>14</th>\n",
       "      <td>14</td>\n",
       "      <td>1076</td>\n",
       "    </tr>\n",
       "    <tr>\n",
       "      <th>15</th>\n",
       "      <td>15</td>\n",
       "      <td>1000</td>\n",
       "    </tr>\n",
       "    <tr>\n",
       "      <th>16</th>\n",
       "      <td>16</td>\n",
       "      <td>5507</td>\n",
       "    </tr>\n",
       "    <tr>\n",
       "      <th>17</th>\n",
       "      <td>17</td>\n",
       "      <td>2297</td>\n",
       "    </tr>\n",
       "    <tr>\n",
       "      <th>18</th>\n",
       "      <td>18</td>\n",
       "      <td>1000</td>\n",
       "    </tr>\n",
       "    <tr>\n",
       "      <th>19</th>\n",
       "      <td>19</td>\n",
       "      <td>1000</td>\n",
       "    </tr>\n",
       "    <tr>\n",
       "      <th>20</th>\n",
       "      <td>20</td>\n",
       "      <td>1478</td>\n",
       "    </tr>\n",
       "    <tr>\n",
       "      <th>21</th>\n",
       "      <td>21</td>\n",
       "      <td>1000</td>\n",
       "    </tr>\n",
       "    <tr>\n",
       "      <th>22</th>\n",
       "      <td>22</td>\n",
       "      <td>1000</td>\n",
       "    </tr>\n",
       "    <tr>\n",
       "      <th>23</th>\n",
       "      <td>23</td>\n",
       "      <td>1000</td>\n",
       "    </tr>\n",
       "    <tr>\n",
       "      <th>24</th>\n",
       "      <td>24</td>\n",
       "      <td>1000</td>\n",
       "    </tr>\n",
       "    <tr>\n",
       "      <th>25</th>\n",
       "      <td>25</td>\n",
       "      <td>5090</td>\n",
       "    </tr>\n",
       "    <tr>\n",
       "      <th>26</th>\n",
       "      <td>26</td>\n",
       "      <td>1835</td>\n",
       "    </tr>\n",
       "    <tr>\n",
       "      <th>27</th>\n",
       "      <td>27</td>\n",
       "      <td>1109</td>\n",
       "    </tr>\n",
       "    <tr>\n",
       "      <th>28</th>\n",
       "      <td>28</td>\n",
       "      <td>1000</td>\n",
       "    </tr>\n",
       "    <tr>\n",
       "      <th>29</th>\n",
       "      <td>29</td>\n",
       "      <td>2127</td>\n",
       "    </tr>\n",
       "    <tr>\n",
       "      <th>30</th>\n",
       "      <td>30</td>\n",
       "      <td>1000</td>\n",
       "    </tr>\n",
       "    <tr>\n",
       "      <th>31</th>\n",
       "      <td>31</td>\n",
       "      <td>1909</td>\n",
       "    </tr>\n",
       "    <tr>\n",
       "      <th>32</th>\n",
       "      <td>32</td>\n",
       "      <td>1000</td>\n",
       "    </tr>\n",
       "    <tr>\n",
       "      <th>33</th>\n",
       "      <td>33</td>\n",
       "      <td>1771</td>\n",
       "    </tr>\n",
       "    <tr>\n",
       "      <th>34</th>\n",
       "      <td>34</td>\n",
       "      <td>1676</td>\n",
       "    </tr>\n",
       "    <tr>\n",
       "      <th>35</th>\n",
       "      <td>35</td>\n",
       "      <td>1404</td>\n",
       "    </tr>\n",
       "    <tr>\n",
       "      <th>36</th>\n",
       "      <td>36</td>\n",
       "      <td>5357</td>\n",
       "    </tr>\n",
       "    <tr>\n",
       "      <th>37</th>\n",
       "      <td>37</td>\n",
       "      <td>1000</td>\n",
       "    </tr>\n",
       "    <tr>\n",
       "      <th>38</th>\n",
       "      <td>38</td>\n",
       "      <td>1591</td>\n",
       "    </tr>\n",
       "  </tbody>\n",
       "</table>\n",
       "</div>"
      ],
      "text/plain": [
       "    class  count\n",
       "0       0   1000\n",
       "1       1   1000\n",
       "2       2   1000\n",
       "3       3   1645\n",
       "4       4   1143\n",
       "5       5   1502\n",
       "6       6   1052\n",
       "7       7   1000\n",
       "8       8   1000\n",
       "9       9   1192\n",
       "10     10   1000\n",
       "11     11   1162\n",
       "12     12   1180\n",
       "13     13   1383\n",
       "14     14   1076\n",
       "15     15   1000\n",
       "16     16   5507\n",
       "17     17   2297\n",
       "18     18   1000\n",
       "19     19   1000\n",
       "20     20   1478\n",
       "21     21   1000\n",
       "22     22   1000\n",
       "23     23   1000\n",
       "24     24   1000\n",
       "25     25   5090\n",
       "26     26   1835\n",
       "27     27   1109\n",
       "28     28   1000\n",
       "29     29   2127\n",
       "30     30   1000\n",
       "31     31   1909\n",
       "32     32   1000\n",
       "33     33   1771\n",
       "34     34   1676\n",
       "35     35   1404\n",
       "36     36   5357\n",
       "37     37   1000\n",
       "38     38   1591"
      ]
     },
     "execution_count": 260,
     "metadata": {},
     "output_type": "execute_result"
    }
   ],
   "source": [
    "classCount.head(39)"
   ]
  },
  {
   "cell_type": "code",
   "execution_count": 261,
   "metadata": {},
   "outputs": [
    {
     "name": "stdout",
     "output_type": "stream",
     "text": [
      "0 Apple___Apple_scab: 1000\n",
      "1 Apple___Black_rot: 1000\n",
      "2 Apple___Cedar_apple_rust: 1000\n",
      "3 Apple___healthy: 1645\n",
      "4 Background_without_leaves: 1143\n",
      "5 Blueberry___healthy: 1502\n",
      "6 Cherry___Powdery_mildew: 1052\n",
      "7 Cherry___healthy: 1000\n",
      "8 Corn___Cercospora_leaf_spot Gray_leaf_spot: 1000\n",
      "9 Corn___Common_rust: 1192\n",
      "10 Corn___Northern_Leaf_Blight: 1000\n",
      "11 Corn___healthy: 1162\n",
      "12 Grape___Black_rot: 1180\n",
      "13 Grape___Esca_(Black_Measles): 1383\n",
      "14 Grape___Leaf_blight_(Isariopsis_Leaf_Spot): 1076\n",
      "15 Grape___healthy: 1000\n",
      "16 Orange___Haunglongbing_(Citrus_greening): 5507\n",
      "17 Peach___Bacterial_spot: 2297\n",
      "18 Peach___healthy: 1000\n",
      "19 Pepper,_bell___Bacterial_spot: 1000\n",
      "20 Pepper,_bell___healthy: 1478\n",
      "21 Potato___Early_blight: 1000\n",
      "22 Potato___Late_blight: 1000\n",
      "23 Potato___healthy: 1000\n",
      "24 Raspberry___healthy: 1000\n",
      "25 Soybean___healthy: 5090\n",
      "26 Squash___Powdery_mildew: 1835\n",
      "27 Strawberry___Leaf_scorch: 1109\n",
      "28 Strawberry___healthy: 1000\n",
      "29 Tomato___Bacterial_spot: 2127\n",
      "30 Tomato___Early_blight: 1000\n",
      "31 Tomato___Late_blight: 1909\n",
      "32 Tomato___Leaf_Mold: 1000\n",
      "33 Tomato___Septoria_leaf_spot: 1771\n",
      "34 Tomato___Spider_mites Two-spotted_spider_mite: 1676\n",
      "35 Tomato___Target_Spot: 1404\n",
      "36 Tomato___Tomato_Yellow_Leaf_Curl_Virus: 5357\n",
      "37 Tomato___Tomato_mosaic_virus: 1000\n",
      "38 Tomato___healthy: 1591\n"
     ]
    }
   ],
   "source": [
    "for index, i in enumerate(range(len(noOfImagesPerClass))):\n",
    "    print(f\"{index} {classNames[i]}: {noOfImagesPerClass[i]}\")"
   ]
  },
  {
   "cell_type": "code",
   "execution_count": 262,
   "metadata": {},
   "outputs": [
    {
     "data": {
      "text/plain": [
       "<AxesSubplot:xlabel='class', ylabel='count'>"
      ]
     },
     "execution_count": 262,
     "metadata": {},
     "output_type": "execute_result"
    },
    {
     "data": {
      "image/png": "[encoded data removed]",
      "text/plain": [
       "<Figure size 1200x800 with 1 Axes>"
      ]
     },
     "metadata": {},
     "output_type": "display_data"
    }
   ],
   "source": [
    "plt.figure(figsize=(12, 8))\n",
    "sns.barplot(x = 'class', y='count', data = classCount)"
   ]
  },
  {
   "cell_type": "code",
   "execution_count": 263,
   "metadata": {},
   "outputs": [
    {
     "data": {
      "text/plain": [
       "1235"
      ]
     },
     "execution_count": 263,
     "metadata": {},
     "output_type": "execute_result"
    }
   ],
   "source": [
    "# Mean of total samples for each label excluding 16, 25, and 36\n",
    "meanCount = int(classCount.sort_values(by=['count'], ascending=False)[4:].mean()[1])\n",
    "meanCount"
   ]
  },
  {
   "cell_type": "code",
   "execution_count": 264,
   "metadata": {},
   "outputs": [],
   "source": [
    "indices_to_keep = []\n",
    "targets = torch.tensor(train_dataset.targets)\n",
    "for label in labels:    \n",
    "    if label == 16 or label == 25 or label == 36:\n",
    "        permIndex = torch.randperm(len(targets))\n",
    "        samples = (targets == label).nonzero()\n",
    "        indices_to_keep.extend(samples[:meanCount])\n",
    "    else:\n",
    "        indices_to_keep.extend((targets == label).nonzero())"
   ]
  },
  {
   "cell_type": "code",
   "execution_count": 265,
   "metadata": {},
   "outputs": [],
   "source": [
    "train_datasetBalanced = torch.utils.data.Subset(train_dataset, indices_to_keep)"
   ]
  },
  {
   "cell_type": "code",
   "execution_count": 266,
   "metadata": {},
   "outputs": [
    {
     "name": "stdout",
     "output_type": "stream",
     "text": [
      "Counter({17: 2297, 29: 2127, 31: 1909, 26: 1835, 33: 1771, 34: 1676, 3: 1645, 38: 1591, 5: 1502, 20: 1478, 35: 1404, 13: 1383, 16: 1235, 25: 1235, 36: 1235, 9: 1192, 12: 1180, 11: 1162, 4: 1143, 27: 1109, 14: 1076, 6: 1052, 0: 1000, 1: 1000, 2: 1000, 7: 1000, 8: 1000, 10: 1000, 15: 1000, 18: 1000, 19: 1000, 21: 1000, 22: 1000, 23: 1000, 24: 1000, 28: 1000, 30: 1000, 32: 1000, 37: 1000})\n"
     ]
    }
   ],
   "source": [
    "from collections import Counter\n",
    "print(Counter(train_dataset.targets[i] for i in indices_to_keep))"
   ]
  },
  {
   "cell_type": "code",
   "execution_count": 267,
   "metadata": {},
   "outputs": [],
   "source": [
    "classCount = Counter(train_dataset.targets[i] for i in indices_to_keep)\n",
    "labels, count = [], []\n",
    "for i in range(len(classCount)):\n",
    "    labels.append(i)\n",
    "    count.append(classCount[i])\n",
    "classCount = pd.DataFrame({'class': labels, 'count': count})"
   ]
  },
  {
   "cell_type": "code",
   "execution_count": 268,
   "metadata": {},
   "outputs": [
    {
     "data": {
      "text/plain": [
       "<AxesSubplot:xlabel='class', ylabel='count'>"
      ]
     },
     "execution_count": 268,
     "metadata": {},
     "output_type": "execute_result"
    },
    {
     "data": {
      "image/png": "[encoded data removed]",
      "text/plain": [
       "<Figure size 1200x800 with 1 Axes>"
      ]
     },
     "metadata": {},
     "output_type": "display_data"
    }
   ],
   "source": [
    "plt.figure(figsize=(12, 8))\n",
    "sns.barplot(x = 'class', y='count', data = classCount)"
   ]
  },
  {
   "cell_type": "code",
   "execution_count": 269,
   "metadata": {},
   "outputs": [
    {
     "data": {
      "text/plain": [
       "49237"
      ]
     },
     "execution_count": 269,
     "metadata": {},
     "output_type": "execute_result"
    }
   ],
   "source": [
    "len(train_datasetBalanced)"
   ]
  },
  {
   "cell_type": "code",
   "execution_count": 270,
   "metadata": {},
   "outputs": [],
   "source": [
    "train_set, test_set = torch.utils.data.random_split(train_datasetBalanced, [39237, 10000])\n",
    "train_set, val_set = torch.utils.data.random_split(train_set, [30000, 9237])"
   ]
  },
  {
   "cell_type": "code",
   "execution_count": 271,
   "metadata": {},
   "outputs": [],
   "source": [
    "batch_size = 100"
   ]
  },
  {
   "cell_type": "code",
   "execution_count": 272,
   "metadata": {},
   "outputs": [],
   "source": [
    "n_iters = 6500"
   ]
  },
  {
   "cell_type": "code",
   "execution_count": 273,
   "metadata": {},
   "outputs": [
    {
     "data": {
      "text/plain": [
       "10"
      ]
     },
     "execution_count": 273,
     "metadata": {},
     "output_type": "execute_result"
    }
   ],
   "source": [
    "num_epochs = n_iters / (len(train_dataset) / batch_size)\n",
    "num_epochs = int(num_epochs)\n",
    "num_epochs"
   ]
  },
  {
   "cell_type": "code",
   "execution_count": 274,
   "metadata": {},
   "outputs": [],
   "source": [
    "train_loader = DataLoader(train_set, batch_size, shuffle=True, num_workers=2, pin_memory=True)\n",
    "# val_loader = DataLoader(val_set, len(val_set), shuffle=True)\n",
    "# test_loader = DataLoader(test_set, len(test_set), shuffle=True)\n",
    "val_loader = DataLoader(val_set, batch_size, shuffle=True, num_workers=2, pin_memory=True)\n",
    "test_loader = DataLoader(test_set, batch_size, shuffle=True, num_workers=2, pin_memory=True)"
   ]
  },
  {
   "cell_type": "code",
   "execution_count": 275,
   "metadata": {},
   "outputs": [],
   "source": [
    "# train_loader = torch.utils.data.DataLoader(dataset=train_dataset, \n",
    "#                                            batch_size=batch_size, \n",
    "#                                            shuffle=True)"
   ]
  },
  {
   "cell_type": "code",
   "execution_count": 276,
   "metadata": {},
   "outputs": [
    {
     "data": {
      "text/plain": [
       "True"
      ]
     },
     "execution_count": 276,
     "metadata": {},
     "output_type": "execute_result"
    }
   ],
   "source": [
    "import collections\n",
    "isinstance(train_loader, collections.abc.Iterable)"
   ]
  },
  {
   "cell_type": "code",
   "execution_count": 277,
   "metadata": {},
   "outputs": [],
   "source": [
    "# test_loader = torch.utils.data.DataLoader(dataset=train_dataset, \n",
    "#                                           batch_size=batch_size, \n",
    "#                                           shuffle=False)"
   ]
  },
  {
   "cell_type": "code",
   "execution_count": 278,
   "metadata": {},
   "outputs": [
    {
     "data": {
      "text/plain": [
       "True"
      ]
     },
     "execution_count": 278,
     "metadata": {},
     "output_type": "execute_result"
    }
   ],
   "source": [
    "isinstance(test_loader, collections.abc.Iterable)"
   ]
  },
  {
   "cell_type": "code",
   "execution_count": 279,
   "metadata": {},
   "outputs": [],
   "source": [
    "img_1 = np.ones((100, 100))\n",
    "img_2 = np.ones((100, 100))\n",
    "lst = [img_1, img_2]"
   ]
  },
  {
   "cell_type": "code",
   "execution_count": 280,
   "metadata": {},
   "outputs": [
    {
     "name": "stdout",
     "output_type": "stream",
     "text": [
      "(100, 100)\n",
      "(100, 100)\n"
     ]
    }
   ],
   "source": [
    "for i in lst:\n",
    "    print(i.shape)"
   ]
  },
  {
   "cell_type": "code",
   "execution_count": 281,
   "metadata": {},
   "outputs": [],
   "source": [
    "class LogisticRegressionModel(nn.Module):\n",
    "    def __init__(self, input_dim, output_dim):\n",
    "        super(LogisticRegressionModel, self).__init__()\n",
    "        self.linear = nn.Linear(input_dim, output_dim)\n",
    "\n",
    "    def forward(self, images):\n",
    "        out = self.linear(images)\n",
    "        return out\n",
    "\n"
   ]
  },
  {
   "cell_type": "code",
   "execution_count": 282,
   "metadata": {},
   "outputs": [
    {
     "data": {
      "text/plain": [
       "torch.Size([3, 100, 100])"
      ]
     },
     "execution_count": 282,
     "metadata": {},
     "output_type": "execute_result"
    }
   ],
   "source": [
    "train_dataset[0][0].size()"
   ]
  },
  {
   "cell_type": "code",
   "execution_count": 283,
   "metadata": {},
   "outputs": [],
   "source": [
    "input_dim = 100*100*3\n",
    "output_dim = 39\n",
    "\n",
    "model = LogisticRegressionModel(input_dim, output_dim).to(device)\n"
   ]
  },
  {
   "cell_type": "code",
   "execution_count": 284,
   "metadata": {},
   "outputs": [],
   "source": [
    "criterion = nn.CrossEntropyLoss()  \n",
    "learning_rate = 0.001\n",
    "\n",
    "optimizer = torch.optim.SGD(model.parameters(), lr=learning_rate)  "
   ]
  },
  {
   "cell_type": "code",
   "execution_count": 285,
   "metadata": {},
   "outputs": [
    {
     "name": "stdout",
     "output_type": "stream",
     "text": [
      "<generator object Module.parameters at 0x0000022CEC0B1930>\n",
      "2\n",
      "torch.Size([39, 30000])\n",
      "torch.Size([39])\n"
     ]
    }
   ],
   "source": [
    "# Type of parameter object\n",
    "print(model.parameters())\n",
    "\n",
    "# Length of parameters\n",
    "print(len(list(model.parameters())))\n",
    "\n",
    "# FC 1 Parameters \n",
    "print(list(model.parameters())[0].size())\n",
    "\n",
    "# FC 1 Bias Parameters\n",
    "print(list(model.parameters())[1].size())"
   ]
  },
  {
   "cell_type": "code",
   "execution_count": 286,
   "metadata": {},
   "outputs": [],
   "source": [
    "def count_parameters(model):\n",
    "    params = [p.numel() for p in model.parameters() if p.requires_grad]\n",
    "    for item in params:\n",
    "        print(f'{item:>6}')\n",
    "    print(f'______\\n{sum(params):>6}')"
   ]
  },
  {
   "cell_type": "code",
   "execution_count": 287,
   "metadata": {},
   "outputs": [
    {
     "name": "stdout",
     "output_type": "stream",
     "text": [
      "1170000\n",
      "    39\n",
      "______\n",
      "1170039\n"
     ]
    }
   ],
   "source": [
    "count_parameters(model)"
   ]
  },
  {
   "cell_type": "code",
   "execution_count": 313,
   "metadata": {},
   "outputs": [
    {
     "name": "stdout",
     "output_type": "stream",
     "text": [
      "Epoch: 1. Iteration: 250. Loss: 1.3172693252563477. Accuracy: 59.310001373291016\n",
      "Epoch: 2. Iteration: 500. Loss: 1.2904924154281616. Accuracy: 58.970001220703125\n",
      "Epoch: 3. Iteration: 750. Loss: 1.1059702634811401. Accuracy: 59.380001068115234\n",
      "Epoch: 4. Iteration: 1000. Loss: 1.3718109130859375. Accuracy: 59.41999816894531\n",
      "Epoch: 5. Iteration: 1250. Loss: 1.497916579246521. Accuracy: 59.470001220703125\n",
      "Epoch: 5. Iteration: 1500. Loss: 1.3298181295394897. Accuracy: 59.5\n",
      "Epoch: 6. Iteration: 1750. Loss: 1.3828749656677246. Accuracy: 59.93000030517578\n",
      "Epoch: 7. Iteration: 2000. Loss: 1.3359534740447998. Accuracy: 59.810001373291016\n",
      "Epoch: 8. Iteration: 2250. Loss: 1.2590163946151733. Accuracy: 59.90999984741211\n",
      "Epoch: 9. Iteration: 2500. Loss: 1.1226212978363037. Accuracy: 60.02000045776367\n",
      "Epoch: 10. Iteration: 2750. Loss: 1.2472220659255981. Accuracy: 59.880001068115234\n",
      "Epoch: 10. Iteration: 3000. Loss: 1.066394567489624. Accuracy: 59.959999084472656\n"
     ]
    }
   ],
   "source": [
    "iter = 0\n",
    "for epoch in range(num_epochs):\n",
    "    val_old_loss = float(\"Inf\")\n",
    "    train_losses = []\n",
    "    train_accs   = []\n",
    "    avg_train_losses_per_epoch = []\n",
    "    avg_train_accs_per_epoch   = []\n",
    "    val_losses   = []\n",
    "    val_accs     = []\n",
    "    training_time = []\n",
    "    training_time_per_epoch = []\n",
    "    for i, (images, labels) in enumerate(train_loader):\n",
    "        total_corr       = 0\n",
    "        total_loss       = 0\n",
    "        total_train_loss = 0\n",
    "        total_time_epoch = 0\n",
    "        # Load images as Variable\n",
    "        images = images.view(-1, 100*100*3).requires_grad_().to(device)\n",
    "        labels = labels.to(device)\n",
    "        # print(images.shape)\n",
    "        # print(labels.shape)\n",
    "        # Clear gradients w.r.t. parameters\n",
    "        optimizer.zero_grad()\n",
    "\n",
    "        # Forward pass to get output/logits\n",
    "        outputs = model(images)\n",
    "\n",
    "        # Calculate Loss: softmax --> cross entropy loss\n",
    "        loss = criterion(outputs, labels)\n",
    "        total_train_loss += loss\n",
    "\n",
    "        train_losses.append(loss)\n",
    "        predicted = torch.max(outputs, 1)[1]\n",
    "        batch_corr = (predicted == labels).sum()\n",
    "        total_corr += batch_corr\n",
    "\n",
    "        # Getting gradients w.r.t. parameters\n",
    "        loss.backward()\n",
    "\n",
    "        # Updating parameters\n",
    "        optimizer.step()\n",
    "\n",
    "        train_acc = (total_corr * 10) / (batch_size * (i + 1))\n",
    "        train_accs.append(train_acc)\n",
    "        \n",
    "        iter += 1\n",
    "        if (iter+1) % 250 == 0:\n",
    "                correct = 0\n",
    "                total = 0\n",
    "                # print(f\"Epoch: {epoch + 1} - Batch: {i + 1} - Train Loss: {loss:.2f} - Train Acc: {train_acc:.2f}\")\n",
    "                for images, labels in test_loader:\n",
    "                    # Load images to a Torch Variable\n",
    "                    images = images.view(-1, 100*100*3).requires_grad_().to(device)\n",
    "\n",
    "                    # Forward pass only to get logits/output\n",
    "                    outputs = model(images)\n",
    "\n",
    "                    # Get predictions from the maximum value\n",
    "                    _, predicted = torch.max(outputs.data, 1)\n",
    "\n",
    "                    # Total number of labels\n",
    "                    total += labels.size(0)\n",
    "\n",
    "                    # Total correct predictions\n",
    "                    if torch.cuda.is_available():\n",
    "                        correct += (predicted.cpu() == labels.cpu()).sum()\n",
    "                    else:\n",
    "                        correct += (predicted == labels).sum()\n",
    "\n",
    "                    accuracy = 100 * correct / total\n",
    "\n",
    "                # Print Loss\n",
    "                print('Epoch: {}. Iteration: {}. Loss: {}. Accuracy: {}'.format(epoch+1,iter+1, loss.item(), accuracy))\n",
    "\n",
    "    avg_train_loss = total_train_loss / len(train_loader)   \n",
    "    avg_train_acc  = (total_corr * 100) / len(train_set)\n",
    "            \n",
    "    avg_train_losses_per_epoch.append(avg_train_loss)\n",
    "    avg_train_accs_per_epoch.append(avg_train_acc)\n",
    "\n",
    "    # print(f\"++++++End of Epoch {epoch + 1} ++++++ Avg Train Loss: {avg_train_loss:.2f} - Avg Train Acc: {avg_train_acc:.2f}\")\n",
    "\n",
    "\n",
    "    train_losses               = torch.Tensor(train_losses).cpu()\n",
    "    avg_train_losses_per_epoch = torch.Tensor(avg_train_losses_per_epoch).cpu()\n",
    "    train_accs                 = torch.Tensor(train_accs).cpu()\n",
    "    avg_train_accs_per_epoch   = torch.Tensor(avg_train_accs_per_epoch).cpu()\n",
    "    val_losses                 = torch.Tensor(val_losses).cpu() \n",
    "    val_accs                   = torch.Tensor(val_accs).cpu()\n"
   ]
  },
  {
   "cell_type": "code",
   "execution_count": 314,
   "metadata": {},
   "outputs": [
    {
     "data": {
      "text/plain": [
       "[<matplotlib.lines.Line2D at 0x22cf1024850>]"
      ]
     },
     "execution_count": 314,
     "metadata": {},
     "output_type": "execute_result"
    },
    {
     "data": {
      "image/png": "[encoded data removed]",
      "text/plain": [
       "<Figure size 640x480 with 1 Axes>"
      ]
     },
     "metadata": {},
     "output_type": "display_data"
    }
   ],
   "source": [
    "plt.plot(train_losses)"
   ]
  },
  {
   "cell_type": "code",
   "execution_count": 315,
   "metadata": {},
   "outputs": [
    {
     "data": {
      "text/plain": [
       "[<matplotlib.lines.Line2D at 0x22ced10e140>]"
      ]
     },
     "execution_count": 315,
     "metadata": {},
     "output_type": "execute_result"
    },
    {
     "data": {
      "image/png": "[encoded data removed]",
      "text/plain": [
       "<Figure size 640x480 with 1 Axes>"
      ]
     },
     "metadata": {},
     "output_type": "display_data"
    }
   ],
   "source": [
    "plt.plot(train_accs)"
   ]
  },
  {
   "cell_type": "code",
   "execution_count": 316,
   "metadata": {},
   "outputs": [],
   "source": [
    "\n",
    "        # if iter % 500 == 0:\n",
    "        #     # Calculate Accuracy         \n",
    "        #     correct = 0\n",
    "        #     total = 0\n",
    "        #     # Iterate through test dataset\n",
    "        #     for images, labels in test_loader:\n",
    "        #         # Load images to a Torch Variable\n",
    "        #         images = images.view(-1, 100*100*3).requires_grad_().to(device)\n",
    "\n",
    "        #         # Forward pass only to get logits/output\n",
    "        #         outputs = model(images)\n",
    "\n",
    "        #         # Get predictions from the maximum value\n",
    "        #         _, predicted = torch.max(outputs.data, 1)\n",
    "\n",
    "        #         # Total number of labels\n",
    "        #         total += labels.size(0)\n",
    "\n",
    "        #         # Total correct predictions\n",
    "        #         if torch.cuda.is_available():\n",
    "        #             correct += (predicted.cpu() == labels.cpu()).sum()\n",
    "        #         else:\n",
    "        #             correct += (predicted == labels).sum()\n",
    "\n",
    "        #     accuracy = 100 * correct / total\n",
    "\n",
    "        #     # Print Loss\n",
    "        #     print('Iteration: {}. Loss: {}. Accuracy: {}'.format(iter, loss.item(), accuracy))"
   ]
  }
 ],
 "metadata": {
  "kernelspec": {
   "display_name": "Python 3.10.7 64-bit",
   "language": "python",
   "name": "python3"
  },
  "language_info": {
   "codemirror_mode": {
    "name": "ipython",
    "version": 3
   },
   "file_extension": ".py",
   "mimetype": "text/x-python",
   "name": "python",
   "nbconvert_exporter": "python",
   "pygments_lexer": "ipython3",
   "version": "3.10.7"
  },
  "orig_nbformat": 4,
  "vscode": {
   "interpreter": {
    "hash": "26de051ba29f2982a8de78e945f0abaf191376122a1563185a90213a26c5da77"
   }
  }
 },
 "nbformat": 4,
 "nbformat_minor": 2
}
